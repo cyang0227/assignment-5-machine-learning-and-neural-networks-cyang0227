{
 "cells": [
  {
   "cell_type": "code",
   "execution_count": 6,
   "metadata": {},
   "outputs": [
    {
     "name": "stdout",
     "output_type": "stream",
     "text": [
      "0.6881596805078625\n"
     ]
    }
   ],
   "source": [
    "import numpy as np\n",
    "\n",
    "def linear(x, w, b):\n",
    "    return np.dot(w, x) + b\n",
    "\n",
    "def relu(x):\n",
    "    return max(0, x)\n",
    "\n",
    "def sigmoid(x):\n",
    "    return 1 / (1 + np.exp(-x))\n",
    "\n",
    "def loss(y, fx):\n",
    "    return - np.dot(y, np.log(fx))\n",
    "\n",
    "x = np.array([1, 2, 3, 4, 5])\n",
    "weight_v1 = np.array([0.79, -0.14, -0.13, -0.24, -0.4])\n",
    "weight_v2 = np.array([-0.77, 0.76, 0.78, -0.51, -0.92])\n",
    "b_v1 = 0.02\n",
    "b_v2 = -0.01\n",
    "\n",
    "weight_w1 = np.array([0.8, 0.58])\n",
    "weight_w2 = np.array([0.18, 0.32])\n",
    "weight_w3 = np.array([0.94, -0.24])\n",
    "b_w1 = 0.0\n",
    "b_w2 = 0.01\n",
    "b_w3 = 0.03\n",
    "y = np.array([0, 1, 0])\n",
    "\n",
    "v1 = relu(linear(x, weight_v1, b_v1))\n",
    "v2 = relu(linear(x, weight_v2, b_v2))\n",
    "w1 = sigmoid(linear([v1, v2], weight_w1, b_w1))\n",
    "w2 = sigmoid(linear([v1, v2], weight_w2, b_w2))\n",
    "w3 = sigmoid(linear([v1, v2], weight_w3, b_w3))\n",
    "\n",
    "loss = loss(y, [w1, w2, w3])\n",
    "print(loss)\n"
   ]
  }
 ],
 "metadata": {
  "kernelspec": {
   "display_name": "Python 3",
   "language": "python",
   "name": "python3"
  },
  "language_info": {
   "codemirror_mode": {
    "name": "ipython",
    "version": 3
   },
   "file_extension": ".py",
   "mimetype": "text/x-python",
   "name": "python",
   "nbconvert_exporter": "python",
   "pygments_lexer": "ipython3",
   "version": "3.12.1"
  }
 },
 "nbformat": 4,
 "nbformat_minor": 2
}
